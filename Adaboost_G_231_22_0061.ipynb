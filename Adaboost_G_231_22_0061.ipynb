{
  "nbformat": 4,
  "nbformat_minor": 0,
  "metadata": {
    "colab": {
      "provenance": [],
      "gpuType": "T4",
      "authorship_tag": "ABX9TyNZ81XHr5f+2+1LMsyNLMbR",
      "include_colab_link": true
    },
    "kernelspec": {
      "name": "python3",
      "display_name": "Python 3"
    },
    "language_info": {
      "name": "python"
    },
    "accelerator": "GPU"
  },
  "cells": [
    {
      "cell_type": "markdown",
      "metadata": {
        "id": "view-in-github",
        "colab_type": "text"
      },
      "source": [
        "<a href=\"https://colab.research.google.com/github/ariefbimantara/PRAKTIKUM-DATA-MINING/blob/main/Adaboost_G_231_22_0061.ipynb\" target=\"_parent\"><img src=\"https://colab.research.google.com/assets/colab-badge.svg\" alt=\"Open In Colab\"/></a>"
      ]
    },
    {
      "cell_type": "code",
      "execution_count": 1,
      "metadata": {
        "id": "2_zewhda3WBU"
      },
      "outputs": [],
      "source": [
        "#Load libraries\n",
        "from sklearn.ensemble import AdaBoostClassifier\n",
        "from sklearn import datasets\n",
        "# import train_test_split function\n",
        "from sklearn.model_selection import train_test_split\n",
        "#Import scikit-learn metrics module for accuracy calculation\n",
        "from sklearn import metrics"
      ]
    },
    {
      "cell_type": "code",
      "source": [
        "# Load data\n",
        "iris = datasets.load_iris()\n",
        "x = iris.data\n",
        "y = iris.target"
      ],
      "metadata": {
        "id": "tQ22_YyU4NcM"
      },
      "execution_count": 2,
      "outputs": []
    },
    {
      "cell_type": "code",
      "source": [
        "# split dataset into training set and test set\n",
        "x_train, x_test, y_train, y_test = train_test_split(x, y, test_size=0.3) # 70% training and 30% test"
      ],
      "metadata": {
        "id": "1o-gLzqT4ZuN"
      },
      "execution_count": 5,
      "outputs": []
    },
    {
      "cell_type": "code",
      "source": [
        "# Create adaboost classifier object\n",
        "abc = AdaBoostClassifier(n_estimators=50,learning_rate=1)\n",
        "# Train Adaboost Classifier\n",
        "model = abc.fit(x_train, y_train)\n",
        "#Predict the response for test dataset\n",
        "y_pred = model.predict(x_test)"
      ],
      "metadata": {
        "id": "vx2nr3K24_j3"
      },
      "execution_count": 6,
      "outputs": []
    },
    {
      "cell_type": "code",
      "source": [
        "# Model Accuracy, how often is the classifier correct?\n",
        "print(\"Accuracy:\",metrics.accuracy_score(y_test, y_pred))"
      ],
      "metadata": {
        "colab": {
          "base_uri": "https://localhost:8080/"
        },
        "id": "H2kLMA0w58W5",
        "outputId": "72492abf-6d87-49b7-ce55-e41839c0548f"
      },
      "execution_count": 8,
      "outputs": [
        {
          "output_type": "stream",
          "name": "stdout",
          "text": [
            "Accuracy: 0.9333333333333333\n"
          ]
        }
      ]
    },
    {
      "cell_type": "code",
      "source": [
        "!git clone https://github.com/eriklindernoren/ML-From-Scratch"
      ],
      "metadata": {
        "colab": {
          "base_uri": "https://localhost:8080/"
        },
        "id": "j0XtreqU6Ni0",
        "outputId": "2deac61a-a768-4a44-b8a2-c4915910f59e"
      },
      "execution_count": 9,
      "outputs": [
        {
          "output_type": "stream",
          "name": "stdout",
          "text": [
            "Cloning into 'ML-From-Scratch'...\n",
            "remote: Enumerating objects: 2558, done.\u001b[K\n",
            "remote: Total 2558 (delta 0), reused 0 (delta 0), pack-reused 2558\u001b[K\n",
            "Receiving objects: 100% (2558/2558), 553.45 KiB | 19.08 MiB/s, done.\n",
            "Resolving deltas: 100% (1960/1960), done.\n"
          ]
        }
      ]
    },
    {
      "cell_type": "code",
      "source": [
        "import sys\n",
        "sys.path.append('/content/ML-From-Scratch')"
      ],
      "metadata": {
        "id": "wtr9KMvu6bc8"
      },
      "execution_count": 10,
      "outputs": []
    },
    {
      "cell_type": "code",
      "source": [
        "from __future__ import division, print_function\n",
        "import numpy as np\n",
        "import math\n",
        "from sklearn import datasets\n",
        "import matplotlib.pyplot as plt\n",
        "import pandas as pd\n",
        "\n",
        "# Import helper functions\n",
        "from mlfromscratch.utils import train_test_split, accuracy_score, Plot\n",
        "\n",
        "# Decision stump used as weak classifier in this impl. of Adaboost\n",
        "class DecisionStump():\n",
        "    def __init__(self):\n",
        "        # Determines if sample shall be classified as -1 or 1 given threshold\n",
        "        self.polarity = 1\n",
        "        # The index of the feature used to make classification\n",
        "        self.feature_index = None\n",
        "        # The threshold value that the feature should be measured against\n",
        "        self.feature_index = None\n",
        "        # Value indicative of the classifier's accuracy\n",
        "        self.alpha = None\n",
        "\n",
        "class Adaboost():\n",
        "   \"\"\"Boosting method that uses a nunber of weak classifier in\n",
        "   ensemble to make strong classifier. This implementation uses decision\n",
        "   stumps, which is a one level Decision Tree.\n",
        "\n",
        "   Parameters:\n",
        "   -----------\n",
        "   n_clf: int\n",
        "      The number of weak classifier that will be used.\n",
        "   \"\"\"\n",
        "   def __init__(self, n_clf=5):\n",
        "       self.n_clf = n_clf\n",
        "\n",
        "   def fit(self, x, y):\n",
        "       n_smaples, n_features = np.shape(x)"
      ],
      "metadata": {
        "id": "W5bfMWYe7nJn"
      },
      "execution_count": 18,
      "outputs": []
    },
    {
      "cell_type": "code",
      "source": [
        "from __future__ import division, print_function\n",
        "import numpy as np\n",
        "import math\n",
        "from sklearn import datasets\n",
        "import matplotlib.pyplot as plt\n",
        "import pandas as pd\n",
        "\n",
        "# Import helper functions\n",
        "from mlfromscratch.utils import train_test_split, accuracy_score, Plot\n",
        "\n",
        "# Decision stump used as weak classifier in this impl. of Adaboost\n",
        "class DecisionStump():\n",
        "    def __init__(self):\n",
        "        # Determines if sample shall be classified as -1 or 1 given threshold\n",
        "        self.polarity = 1\n",
        "        # The index of the feature used to make classification\n",
        "        self.feature_index = None\n",
        "        # The threshold value that the feature should be measured against\n",
        "        self.threshold = None\n",
        "        # Value indicative of the classifier's accuracy\n",
        "        self.alpha = None\n",
        "\n",
        "class Adaboost():\n",
        "    \"\"\"Boosting method that uses a number of weak classifiers in\n",
        "    ensemble to make a strong classifier. This implementation uses decision\n",
        "    stumps, which is a one level Decision Tree.\n",
        "\n",
        "    Parameters:\n",
        "    -----------\n",
        "    n_clf: int\n",
        "        The number of weak classifiers that will be used.\n",
        "    \"\"\"\n",
        "    def __init__(self, n_clf=5):\n",
        "        self.n_clf = n_clf\n",
        "\n",
        "    def fit(self, X, y):\n",
        "        n_samples, n_features = np.shape(X)\n",
        "\n",
        "        # Initialize weights to 1/N\n",
        "        w = np.full(n_samples, (1 / n_samples))\n",
        "\n",
        "        self.clfs = []\n",
        "        # Iterate through classifiers\n",
        "        for _ in range(self.n_clf):\n",
        "            clf = DecisionStump()\n",
        "            # Minimum error given for using a certain feature value threshold\n",
        "            # for predicting sample label\n",
        "            min_error = float('inf')\n",
        "            # Iterate throught every unique feature value and see what value\n",
        "            # makes the best threshold for predicting y\n",
        "            for feature_i in range(n_features):\n",
        "                feature_values = np.expand_dims(X[:, feature_i], axis=1)\n",
        "                unique_values = np.unique(feature_values)\n",
        "                # Try every unique feature value as threshold\n",
        "                for threshold in unique_values:\n",
        "                    p = 1\n",
        "                    # Set all predictions to '1' initially\n",
        "                    prediction = np.ones(np.shape(y))\n",
        "                    # Label the samples whose values are below threshold as '-1'\n",
        "                    prediction[X[:, feature_i] < threshold] = -1\n",
        "                    # Error = sum of weights of misclassified samples\n",
        "                    error = sum(w[y != prediction])\n",
        "\n",
        "                    # If the error is over 50% we flip the polarity so that samples that\n",
        "                    # were classified as 0 are classified as 1, and vice versa\n",
        "                    # E.g error = 0.8 => (1 - error) = 0.2\n",
        "                    if error > 0.5:\n",
        "                        error = 1 - error\n",
        "                        p = -1\n",
        "\n",
        "                    # If this threshold resulted in the smallest error we save the\n",
        "                    # configuration\n",
        "                    if error < min_error:\n",
        "                        clf.polarity = p\n",
        "                        clf.threshold = threshold\n",
        "                        clf.feature_index = feature_i\n",
        "                        min_error = error\n",
        "            # Calculate the alpha which is used to update the sample weights,\n",
        "            # Alpha is also an approximation of this classifier's proficiency\n",
        "            clf.alpha = 0.5 * math.log((1.0 - min_error) / (min_error + 1e-10))\n",
        "            # Set all predictions to '1' initially\n",
        "            predictions = np.ones(np.shape(y))\n",
        "            # The indexes where the sample values are below threshold\n",
        "            negative_idx = (clf.polarity * X[:, clf.feature_index] < clf.polarity * clf.threshold)\n",
        "            # Label those as '-1'\n",
        "            predictions[negative_idx] = -1\n",
        "            # Calculate new weights\n",
        "            # Missclassified samples gets larger weights and correctly classified samples smaller\n",
        "            w *= np.exp(-clf.alpha * y * predictions)\n",
        "            # Normalize to one\n",
        "            w /= np.sum(w)\n",
        "\n",
        "            # Save classifier\n",
        "            self.clfs.append(clf)\n",
        "\n",
        "    def predict(self, X):\n",
        "        n_samples = np.shape(X)[0]\n",
        "        y_pred = np.zeros((n_samples, 1))\n",
        "        # For each classifier => label the samples\n",
        "        for clf in self.clfs:\n",
        "            # Set all predictions to '1' initially\n",
        "            predictions = np.ones(np.shape(y_pred))\n",
        "            # The indexes where the sample values are below threshold\n",
        "            negative_idx = (clf.polarity * X[:, clf.feature_index] < clf.polarity * clf.threshold)\n",
        "            # Label those as '-1'\n",
        "            predictions[negative_idx] = -1\n",
        "            # Add predictions weighted by the classifiers alpha\n",
        "            # (alpha indicative of classifier's proficiency)\n",
        "            y_pred += clf.alpha * predictions\n",
        "\n",
        "        # Return sign of prediction sum\n",
        "        y_pred = np.sign(y_pred).flatten()\n",
        "\n",
        "        return y_pred\n",
        "\n",
        "\n",
        "def main():\n",
        "    data = datasets.load_digits()\n",
        "    X = data.data\n",
        "    y = data.target\n",
        "\n",
        "    digit1 = 1\n",
        "    digit2 = 8\n",
        "    idx = np.append(np.where(y == digit1)[0], np.where(y == digit2)[0])\n",
        "    y = data.target[idx]\n",
        "    # Change labels to {-1, 1}\n",
        "    y[y == digit1] = -1\n",
        "    y[y == digit2] = 1\n",
        "    X = data.data[idx]\n",
        "\n",
        "    X_train, X_test, y_train, y_test = train_test_split(X, y, test_size=0.5)\n",
        "\n",
        "    # Adaboost classification with 5 weak classifiers\n",
        "    clf = Adaboost(n_clf=5)\n",
        "    clf.fit(X_train, y_train)\n",
        "    y_pred = clf.predict(X_test)\n",
        "\n",
        "    accuracy = accuracy_score(y_test, y_pred)\n",
        "    print (\"Accuracy:\", accuracy)\n",
        "\n",
        "    # Reduce dimensions to 2d using pca and plot the results\n",
        "    Plot().plot_in_2d(X_test, y_pred, title=\"Adaboost\", accuracy=accuracy)\n",
        "\n",
        "\n",
        "if __name__ == \"__main__\":\n",
        "    main()\n"
      ],
      "metadata": {
        "colab": {
          "base_uri": "https://localhost:8080/",
          "height": 514
        },
        "id": "nhagZkWPACYq",
        "outputId": "dce8134f-5e28-4ed7-d7d0-be8ce929d4eb"
      },
      "execution_count": 19,
      "outputs": [
        {
          "output_type": "stream",
          "name": "stdout",
          "text": [
            "Accuracy: 0.9382022471910112\n"
          ]
        },
        {
          "output_type": "display_data",
          "data": {
            "text/plain": [
              "<Figure size 640x480 with 1 Axes>"
            ],
            "image/png": "[encoded data removed]"
          },
          "metadata": {}
        }
      ]
    }
  ]
}